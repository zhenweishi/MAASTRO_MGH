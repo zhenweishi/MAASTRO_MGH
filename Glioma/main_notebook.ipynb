{
 "cells": [
  {
   "cell_type": "code",
   "execution_count": 6,
   "metadata": {},
   "outputs": [],
   "source": [
    "import numpy as np\n",
    "import pandas as pd\n",
    "# from DeepQI_preprocessing import get_slicemax\n",
    "import SimpleITK as sitk\n",
    "import os"
   ]
  },
  {
   "cell_type": "code",
   "execution_count": 8,
   "metadata": {},
   "outputs": [],
   "source": [
    "def get_slicemax(Image,Mask,output_dir):\n",
    "    print(''*30)\n",
    "    print('Starting to get maximal area slice')\n",
    "    #convert image to array\n",
    "    mask_array = sitk.GetArrayFromImage(Mask)\n",
    "    image_array  = sitk.GetArrayFromImage(Image)\n",
    "    # find the index of slice with maximum pixel number\n",
    "    pixelsum = []\n",
    "    for i in range(mask_array.shape[0]):\n",
    "        pixelnum = np.sum(mask_array[i,:,:])\n",
    "        pixelsum.append(pixelnum)\n",
    "    ind_max = pixelsum.index(max(pixelsum))\n",
    "    oneslice = image_array[ind_max,:,:]\n",
    "    #gray level\n",
    "    oneslice = (oneslice-np.min(oneslice))*255/(np.max(oneslice)-np.min(oneslice))\n",
    "    # filter the max slice using mask\n",
    "    oneslice = oneslice*mask_array[ind_max,:,:]\n",
    "    # save max slice\n",
    "#     fig_name = ptid + '-' + roi +'-' + 'slicemax'+ str(mask_array.shape[0]-ind_max)\n",
    "    fig_name = 'slicemax'+ str(mask_array.shape[0]-ind_max)\n",
    "    if not os.path.exists(output_dir):\n",
    "        os.makedirs(output_dir)\n",
    "    np.save(output_dir+fig_name,oneslice)\n",
    "    # plt.imsave((output_dir+ fig_name+'.png'),oneslice)\n",
    "#     print('All DL input image of patient %s have been done !!!' % ptid)"
   ]
  },
  {
   "cell_type": "code",
   "execution_count": 9,
   "metadata": {},
   "outputs": [
    {
     "name": "stdout",
     "output_type": "stream",
     "text": [
      "\n",
      "Starting to get maximal area slice\n"
     ]
    }
   ],
   "source": [
    "im1 = 'data/lung1_image.nrrd'\n",
    "mask1 = 'data/lung1_label.nrrd'\n",
    "output_dir = './'\n",
    "\n",
    "IMAGE = sitk.ReadImage(im1)\n",
    "MASK = sitk.ReadImage(mask1)\n",
    "get_slicemax(IMAGE,MASK,output_dir)"
   ]
  },
  {
   "cell_type": "code",
   "execution_count": null,
   "metadata": {},
   "outputs": [],
   "source": []
  },
  {
   "cell_type": "code",
   "execution_count": 12,
   "metadata": {},
   "outputs": [],
   "source": [
    "import matplotlib.pyplot as plt\n",
    "s = np.load('./slicemax15.npy')\n",
    "plt.imshow(s, cmap='gray')\n",
    "plt.show()"
   ]
  },
  {
   "cell_type": "code",
   "execution_count": 17,
   "metadata": {},
   "outputs": [
    {
     "data": {
      "image/png": "[encoded data removed]",
      "text/plain": [
       "<Figure size 432x288 with 1 Axes>"
      ]
     },
     "metadata": {
      "needs_background": "light"
     },
     "output_type": "display_data"
    }
   ],
   "source": []
  },
  {
   "cell_type": "code",
   "execution_count": null,
   "metadata": {},
   "outputs": [],
   "source": []
  }
 ],
 "metadata": {
  "kernelspec": {
   "display_name": "Python 3",
   "language": "python",
   "name": "python3"
  },
  "language_info": {
   "codemirror_mode": {
    "name": "ipython",
    "version": 3
   },
   "file_extension": ".py",
   "mimetype": "text/x-python",
   "name": "python",
   "nbconvert_exporter": "python",
   "pygments_lexer": "ipython3",
   "version": "3.7.0"
  }
 },
 "nbformat": 4,
 "nbformat_minor": 2
}
